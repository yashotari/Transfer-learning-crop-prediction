{
 "cells": [
  {
   "cell_type": "code",
   "execution_count": 2,
   "id": "afb7d5e5",
   "metadata": {},
   "outputs": [],
   "source": [
    "from tensorflow.keras.models import load_model"
   ]
  },
  {
   "cell_type": "markdown",
   "id": "9beab7bd",
   "metadata": {},
   "source": [
    "# VGG16"
   ]
  },
  {
   "cell_type": "code",
   "execution_count": 3,
   "id": "959c8055",
   "metadata": {},
   "outputs": [],
   "source": [
    "model=load_model('../DSML25/crop_prediction2_vgg16.h5')"
   ]
  },
  {
   "cell_type": "code",
   "execution_count": 4,
   "id": "6710dfa0",
   "metadata": {},
   "outputs": [],
   "source": [
    "import cv2\n",
    "def get_crop(path):\n",
    "    A=cv2.imread(path)\n",
    "    A=cv2.resize(A,(224,224))\n",
    "    A=A/255\n",
    "    A=A.reshape(1,224,224,3)\n",
    "    return model.predict_on_batch(A).argmax()\n",
    "#jute': 0, 'maize': 1, 'rice': 2, 'sugarcane': 3, 'wheat': 4"
   ]
  },
  {
   "cell_type": "code",
   "execution_count": 5,
   "id": "2d015a00",
   "metadata": {},
   "outputs": [
    {
     "name": "stdout",
     "output_type": "stream",
     "text": [
      "../Desktop/agriculture-crop-images/test_crop_imagejute-field.jpg\n",
      "../Desktop/agriculture-crop-images/test_crop_imagejute002.jpg\n",
      "../Desktop/agriculture-crop-images/test_crop_imagejute003.jpg\n",
      "../Desktop/agriculture-crop-images/test_crop_imagejute03.jpg\n",
      "../Desktop/agriculture-crop-images/test_crop_imagejutefield.jpg\n",
      "../Desktop/agriculture-crop-images/test_crop_imagejuteimg.jpg\n",
      "../Desktop/agriculture-crop-images/test_crop_imagejuteleaves.jpg\n",
      "../Desktop/agriculture-crop-images/test_crop_imagejuteplant.jpg\n",
      "../Desktop/agriculture-crop-images/test_crop_imagejuteplants.jpg\n",
      "../Desktop/agriculture-crop-images/test_crop_imagemaize corn set2.jpg\n",
      "../Desktop/agriculture-crop-images/test_crop_imagemaize images.jfif\n",
      "../Desktop/agriculture-crop-images/test_crop_imagemaize plant set.jpg\n",
      "../Desktop/agriculture-crop-images/test_crop_imagemaize-Field-Corn.jpg\n",
      "../Desktop/agriculture-crop-images/test_crop_imagemaize-field.jpg\n",
      "../Desktop/agriculture-crop-images/test_crop_imagemaize-field01.jpg\n",
      "../Desktop/agriculture-crop-images/test_crop_imagemaize000.jfif\n",
      "../Desktop/agriculture-crop-images/test_crop_imagemaize00corn-fields.jpg\n",
      "../Desktop/agriculture-crop-images/test_crop_imagemaize02.jfif\n",
      "../Desktop/agriculture-crop-images/test_crop_imagemaizecornleaves.jfif\n",
      "../Desktop/agriculture-crop-images/test_crop_imagemaize_fieldmexico.jpeg\n",
      "../Desktop/agriculture-crop-images/test_crop_imagerice-4967164_1280.jpg\n",
      "../Desktop/agriculture-crop-images/test_crop_imagerice-5174887_1280.jpg\n",
      "../Desktop/agriculture-crop-images/test_crop_imagerice-828540_1280.jpg\n",
      "../Desktop/agriculture-crop-images/test_crop_imagerice-field.jpg\n",
      "../Desktop/agriculture-crop-images/test_crop_imagerice-field01.jpg\n",
      "../Desktop/agriculture-crop-images/test_crop_imagerice-field02.jpg\n",
      "../Desktop/agriculture-crop-images/test_crop_imagerice-fields-204128_1280.jpg\n",
      "../Desktop/agriculture-crop-images/test_crop_imagerice8122f869e3f.jpg\n",
      "../Desktop/agriculture-crop-images/test_crop_imagesugarcane fields.jpg\n",
      "../Desktop/agriculture-crop-images/test_crop_imagesugarcane-farm-in-the-mountain-countryside-of-thailand.jpg\n",
      "../Desktop/agriculture-crop-images/test_crop_imagesugarcane-field.jpg\n",
      "../Desktop/agriculture-crop-images/test_crop_imagesugarcane-field8.jpg\n",
      "../Desktop/agriculture-crop-images/test_crop_imagesugarcanefield.jpg\n",
      "../Desktop/agriculture-crop-images/test_crop_imagesugarcanefield02.jpg\n",
      "../Desktop/agriculture-crop-images/test_crop_imagesugarcaneplant.jpg\n",
      "../Desktop/agriculture-crop-images/test_crop_imagesugarcaneplants.jpg\n",
      "../Desktop/agriculture-crop-images/test_crop_imagewheat-crop.jpg\n",
      "../Desktop/agriculture-crop-images/test_crop_imagewheat-field-395545_960_720.jpg\n",
      "../Desktop/agriculture-crop-images/test_crop_imagewheat-field-artificial-irrigation-rural-electrification-to-harvest-166395991.jpg\n",
      "../Desktop/agriculture-crop-images/test_crop_imagewheat-field.jfif\n",
      "../Desktop/agriculture-crop-images/test_crop_imagewheat-field01.jpg\n",
      "../Desktop/agriculture-crop-images/test_crop_imagewheat-field02.jpg\n",
      "../Desktop/agriculture-crop-images/test_crop_imagewheat-field03.jpg\n",
      "../Desktop/agriculture-crop-images/test_crop_imagewheat.jpg\n",
      "../Desktop/agriculture-crop-images/test_crop_imagewheatarial02.jpg\n",
      "../Desktop/agriculture-crop-images/test_crop_imagewheatarialview.jfif\n",
      "../Desktop/agriculture-crop-images/test_crop_imagewheatcrop01.jpg\n",
      "../Desktop/agriculture-crop-images/test_crop_imagewheatcropfield.jpg\n",
      "../Desktop/agriculture-crop-images/test_crop_imagewheatcropfield04.jpg\n",
      "../Desktop/agriculture-crop-images/test_crop_imagewheatcrops.jpg\n",
      "../Desktop/agriculture-crop-images/test_crop_imagewheatss.jpg\n"
     ]
    }
   ],
   "source": [
    "import os\n",
    "for img in os.listdir('../Desktop/agriculture-crop-images/test_crop_image'):\n",
    "    print('../Desktop/agriculture-crop-images/test_crop_image'+img)"
   ]
  },
  {
   "cell_type": "code",
   "execution_count": 6,
   "id": "872fb83e",
   "metadata": {},
   "outputs": [
    {
     "name": "stdout",
     "output_type": "stream",
     "text": [
      "jute-field.jpg \t 0\n",
      "jute002.jpg \t 2\n",
      "jute003.jpg \t 4\n",
      "jute03.jpg \t 2\n",
      "jutefield.jpg \t 4\n",
      "juteimg.jpg \t 2\n",
      "juteleaves.jpg \t 0\n",
      "juteplant.jpg \t 1\n",
      "juteplants.jpg \t 0\n",
      "maize corn set2.jpg \t 4\n",
      "maize images.jfif \t 1\n",
      "maize plant set.jpg \t 4\n",
      "maize-Field-Corn.jpg \t 4\n",
      "maize-field.jpg \t 1\n",
      "maize-field01.jpg \t 4\n",
      "maize000.jfif \t 2\n",
      "maize00corn-fields.jpg \t 1\n",
      "maize02.jfif \t 4\n",
      "maizecornleaves.jfif \t 1\n",
      "maize_fieldmexico.jpeg \t 4\n",
      "rice-4967164_1280.jpg \t 2\n",
      "rice-5174887_1280.jpg \t 4\n",
      "rice-828540_1280.jpg \t 4\n",
      "rice-field.jpg \t 4\n",
      "rice-field01.jpg \t 4\n",
      "rice-field02.jpg \t 4\n",
      "rice-fields-204128_1280.jpg \t 2\n",
      "rice8122f869e3f.jpg \t 4\n",
      "sugarcane fields.jpg \t 1\n",
      "sugarcane-farm-in-the-mountain-countryside-of-thailand.jpg \t 4\n",
      "sugarcane-field.jpg \t 4\n",
      "sugarcane-field8.jpg \t 4\n",
      "sugarcanefield.jpg \t 4\n",
      "sugarcanefield02.jpg \t 4\n",
      "sugarcaneplant.jpg \t 1\n",
      "sugarcaneplants.jpg \t 4\n",
      "wheat-crop.jpg \t 4\n",
      "wheat-field-395545_960_720.jpg \t 2\n",
      "wheat-field-artificial-irrigation-rural-electrification-to-harvest-166395991.jpg \t 4\n",
      "wheat-field.jfif \t 4\n",
      "wheat-field01.jpg \t 4\n",
      "wheat-field02.jpg \t 4\n",
      "wheat-field03.jpg \t 4\n",
      "wheat.jpg \t 4\n",
      "wheatarial02.jpg \t 0\n",
      "wheatarialview.jfif \t 4\n",
      "wheatcrop01.jpg \t 4\n",
      "wheatcropfield.jpg \t 4\n",
      "wheatcropfield04.jpg \t 4\n",
      "wheatcrops.jpg \t 4\n",
      "wheatss.jpg \t 4\n"
     ]
    }
   ],
   "source": [
    "for img in os.listdir('../Desktop/agriculture-crop-images/test_crop_image/'):\n",
    "    y=get_crop('../Desktop/agriculture-crop-images/test_crop_image/'+img)\n",
    "    print(img,'\\t',y)"
   ]
  },
  {
   "cell_type": "markdown",
   "id": "8291559f",
   "metadata": {},
   "source": [
    "# resnet"
   ]
  },
  {
   "cell_type": "code",
   "execution_count": 7,
   "id": "1f3124e8",
   "metadata": {},
   "outputs": [],
   "source": [
    "modelres=load_model('../DSML25/crop_prediction2_resnet.h5')"
   ]
  },
  {
   "cell_type": "code",
   "execution_count": 8,
   "id": "480a8c06",
   "metadata": {},
   "outputs": [],
   "source": [
    "import cv2\n",
    "def get_crop2(path):\n",
    "    A=cv2.imread(path)\n",
    "    A=cv2.resize(A,(224,224))\n",
    "    A=A/255\n",
    "    A=A.reshape(1,224,224,3)\n",
    "    return modelres.predict_on_batch(A).argmax()\n",
    "#jute': 0, 'maize': 1, 'rice': 2, 'sugarcane': 3, 'wheat': 4"
   ]
  },
  {
   "cell_type": "code",
   "execution_count": 9,
   "id": "2cdb524e",
   "metadata": {},
   "outputs": [
    {
     "name": "stdout",
     "output_type": "stream",
     "text": [
      "../Desktop/agriculture-crop-images/test_crop_image/jute-field.jpg\n",
      "../Desktop/agriculture-crop-images/test_crop_image/jute002.jpg\n",
      "../Desktop/agriculture-crop-images/test_crop_image/jute003.jpg\n",
      "../Desktop/agriculture-crop-images/test_crop_image/jute03.jpg\n",
      "../Desktop/agriculture-crop-images/test_crop_image/jutefield.jpg\n",
      "../Desktop/agriculture-crop-images/test_crop_image/juteimg.jpg\n",
      "../Desktop/agriculture-crop-images/test_crop_image/juteleaves.jpg\n",
      "../Desktop/agriculture-crop-images/test_crop_image/juteplant.jpg\n",
      "../Desktop/agriculture-crop-images/test_crop_image/juteplants.jpg\n",
      "../Desktop/agriculture-crop-images/test_crop_image/maize corn set2.jpg\n",
      "../Desktop/agriculture-crop-images/test_crop_image/maize images.jfif\n",
      "../Desktop/agriculture-crop-images/test_crop_image/maize plant set.jpg\n",
      "../Desktop/agriculture-crop-images/test_crop_image/maize-Field-Corn.jpg\n",
      "../Desktop/agriculture-crop-images/test_crop_image/maize-field.jpg\n",
      "../Desktop/agriculture-crop-images/test_crop_image/maize-field01.jpg\n",
      "../Desktop/agriculture-crop-images/test_crop_image/maize000.jfif\n",
      "../Desktop/agriculture-crop-images/test_crop_image/maize00corn-fields.jpg\n",
      "../Desktop/agriculture-crop-images/test_crop_image/maize02.jfif\n",
      "../Desktop/agriculture-crop-images/test_crop_image/maizecornleaves.jfif\n",
      "../Desktop/agriculture-crop-images/test_crop_image/maize_fieldmexico.jpeg\n",
      "../Desktop/agriculture-crop-images/test_crop_image/rice-4967164_1280.jpg\n",
      "../Desktop/agriculture-crop-images/test_crop_image/rice-5174887_1280.jpg\n",
      "../Desktop/agriculture-crop-images/test_crop_image/rice-828540_1280.jpg\n",
      "../Desktop/agriculture-crop-images/test_crop_image/rice-field.jpg\n",
      "../Desktop/agriculture-crop-images/test_crop_image/rice-field01.jpg\n",
      "../Desktop/agriculture-crop-images/test_crop_image/rice-field02.jpg\n",
      "../Desktop/agriculture-crop-images/test_crop_image/rice-fields-204128_1280.jpg\n",
      "../Desktop/agriculture-crop-images/test_crop_image/rice8122f869e3f.jpg\n",
      "../Desktop/agriculture-crop-images/test_crop_image/sugarcane fields.jpg\n",
      "../Desktop/agriculture-crop-images/test_crop_image/sugarcane-farm-in-the-mountain-countryside-of-thailand.jpg\n",
      "../Desktop/agriculture-crop-images/test_crop_image/sugarcane-field.jpg\n",
      "../Desktop/agriculture-crop-images/test_crop_image/sugarcane-field8.jpg\n",
      "../Desktop/agriculture-crop-images/test_crop_image/sugarcanefield.jpg\n",
      "../Desktop/agriculture-crop-images/test_crop_image/sugarcanefield02.jpg\n",
      "../Desktop/agriculture-crop-images/test_crop_image/sugarcaneplant.jpg\n",
      "../Desktop/agriculture-crop-images/test_crop_image/sugarcaneplants.jpg\n",
      "../Desktop/agriculture-crop-images/test_crop_image/wheat-crop.jpg\n",
      "../Desktop/agriculture-crop-images/test_crop_image/wheat-field-395545_960_720.jpg\n",
      "../Desktop/agriculture-crop-images/test_crop_image/wheat-field-artificial-irrigation-rural-electrification-to-harvest-166395991.jpg\n",
      "../Desktop/agriculture-crop-images/test_crop_image/wheat-field.jfif\n",
      "../Desktop/agriculture-crop-images/test_crop_image/wheat-field01.jpg\n",
      "../Desktop/agriculture-crop-images/test_crop_image/wheat-field02.jpg\n",
      "../Desktop/agriculture-crop-images/test_crop_image/wheat-field03.jpg\n",
      "../Desktop/agriculture-crop-images/test_crop_image/wheat.jpg\n",
      "../Desktop/agriculture-crop-images/test_crop_image/wheatarial02.jpg\n",
      "../Desktop/agriculture-crop-images/test_crop_image/wheatarialview.jfif\n",
      "../Desktop/agriculture-crop-images/test_crop_image/wheatcrop01.jpg\n",
      "../Desktop/agriculture-crop-images/test_crop_image/wheatcropfield.jpg\n",
      "../Desktop/agriculture-crop-images/test_crop_image/wheatcropfield04.jpg\n",
      "../Desktop/agriculture-crop-images/test_crop_image/wheatcrops.jpg\n",
      "../Desktop/agriculture-crop-images/test_crop_image/wheatss.jpg\n"
     ]
    }
   ],
   "source": [
    "import os\n",
    "for img in os.listdir('../Desktop/agriculture-crop-images/test_crop_image'):\n",
    "    print('../Desktop/agriculture-crop-images/test_crop_image/'+img)"
   ]
  },
  {
   "cell_type": "code",
   "execution_count": 10,
   "id": "a5e87607",
   "metadata": {},
   "outputs": [
    {
     "name": "stdout",
     "output_type": "stream",
     "text": [
      "jute-field.jpg \t 0\n",
      "jute002.jpg \t 0\n",
      "jute003.jpg \t 0\n",
      "jute03.jpg \t 0\n",
      "jutefield.jpg \t 0\n",
      "juteimg.jpg \t 4\n",
      "juteleaves.jpg \t 0\n",
      "juteplant.jpg \t 0\n",
      "juteplants.jpg \t 0\n",
      "maize corn set2.jpg \t 0\n",
      "maize images.jfif \t 0\n",
      "maize plant set.jpg \t 0\n",
      "maize-Field-Corn.jpg \t 4\n",
      "maize-field.jpg \t 0\n",
      "maize-field01.jpg \t 4\n",
      "maize000.jfif \t 0\n",
      "maize00corn-fields.jpg \t 0\n",
      "maize02.jfif \t 4\n",
      "maizecornleaves.jfif \t 0\n",
      "maize_fieldmexico.jpeg \t 0\n",
      "rice-4967164_1280.jpg \t 4\n",
      "rice-5174887_1280.jpg \t 0\n",
      "rice-828540_1280.jpg \t 4\n",
      "rice-field.jpg \t 0\n",
      "rice-field01.jpg \t 0\n",
      "rice-field02.jpg \t 0\n",
      "rice-fields-204128_1280.jpg \t 0\n",
      "rice8122f869e3f.jpg \t 4\n",
      "sugarcane fields.jpg \t 0\n",
      "sugarcane-farm-in-the-mountain-countryside-of-thailand.jpg \t 0\n",
      "sugarcane-field.jpg \t 0\n",
      "sugarcane-field8.jpg \t 0\n",
      "sugarcanefield.jpg \t 0\n",
      "sugarcanefield02.jpg \t 0\n",
      "sugarcaneplant.jpg \t 1\n",
      "sugarcaneplants.jpg \t 0\n",
      "wheat-crop.jpg \t 4\n",
      "wheat-field-395545_960_720.jpg \t 4\n",
      "wheat-field-artificial-irrigation-rural-electrification-to-harvest-166395991.jpg \t 4\n",
      "wheat-field.jfif \t 4\n",
      "wheat-field01.jpg \t 0\n",
      "wheat-field02.jpg \t 4\n",
      "wheat-field03.jpg \t 4\n",
      "wheat.jpg \t 0\n",
      "wheatarial02.jpg \t 0\n",
      "wheatarialview.jfif \t 4\n",
      "wheatcrop01.jpg \t 0\n",
      "wheatcropfield.jpg \t 4\n",
      "wheatcropfield04.jpg \t 4\n",
      "wheatcrops.jpg \t 4\n",
      "wheatss.jpg \t 4\n"
     ]
    }
   ],
   "source": [
    "for img in os.listdir('../Desktop/agriculture-crop-images/test_crop_image/'):\n",
    "    y=get_crop2('../Desktop/agriculture-crop-images/test_crop_image/'+img)\n",
    "    print(img,'\\t',y)"
   ]
  },
  {
   "cell_type": "markdown",
   "id": "e5b49181",
   "metadata": {},
   "source": [
    "# inception"
   ]
  },
  {
   "cell_type": "code",
   "execution_count": 11,
   "id": "11ffe401",
   "metadata": {},
   "outputs": [],
   "source": [
    "modelincep=load_model('../DSML25/crop_prediction2_inception.h5')"
   ]
  },
  {
   "cell_type": "code",
   "execution_count": 12,
   "id": "0708762c",
   "metadata": {},
   "outputs": [],
   "source": [
    "import cv2\n",
    "def get_crop3(path):\n",
    "    A=cv2.imread(path)\n",
    "    A=cv2.resize(A,(224,224))\n",
    "    A=A/255\n",
    "    A=A.reshape(1,224,224,3)\n",
    "    return modelincep.predict_on_batch(A).argmax()\n",
    "#jute': 0, 'maize': 1, 'rice': 2, 'sugarcane': 3, 'wheat': 4"
   ]
  },
  {
   "cell_type": "code",
   "execution_count": 13,
   "id": "96fe3829",
   "metadata": {},
   "outputs": [
    {
     "name": "stdout",
     "output_type": "stream",
     "text": [
      "../Desktop/agriculture-crop-images/test_crop_image/jute-field.jpg\n",
      "../Desktop/agriculture-crop-images/test_crop_image/jute002.jpg\n",
      "../Desktop/agriculture-crop-images/test_crop_image/jute003.jpg\n",
      "../Desktop/agriculture-crop-images/test_crop_image/jute03.jpg\n",
      "../Desktop/agriculture-crop-images/test_crop_image/jutefield.jpg\n",
      "../Desktop/agriculture-crop-images/test_crop_image/juteimg.jpg\n",
      "../Desktop/agriculture-crop-images/test_crop_image/juteleaves.jpg\n",
      "../Desktop/agriculture-crop-images/test_crop_image/juteplant.jpg\n",
      "../Desktop/agriculture-crop-images/test_crop_image/juteplants.jpg\n",
      "../Desktop/agriculture-crop-images/test_crop_image/maize corn set2.jpg\n",
      "../Desktop/agriculture-crop-images/test_crop_image/maize images.jfif\n",
      "../Desktop/agriculture-crop-images/test_crop_image/maize plant set.jpg\n",
      "../Desktop/agriculture-crop-images/test_crop_image/maize-Field-Corn.jpg\n",
      "../Desktop/agriculture-crop-images/test_crop_image/maize-field.jpg\n",
      "../Desktop/agriculture-crop-images/test_crop_image/maize-field01.jpg\n",
      "../Desktop/agriculture-crop-images/test_crop_image/maize000.jfif\n",
      "../Desktop/agriculture-crop-images/test_crop_image/maize00corn-fields.jpg\n",
      "../Desktop/agriculture-crop-images/test_crop_image/maize02.jfif\n",
      "../Desktop/agriculture-crop-images/test_crop_image/maizecornleaves.jfif\n",
      "../Desktop/agriculture-crop-images/test_crop_image/maize_fieldmexico.jpeg\n",
      "../Desktop/agriculture-crop-images/test_crop_image/rice-4967164_1280.jpg\n",
      "../Desktop/agriculture-crop-images/test_crop_image/rice-5174887_1280.jpg\n",
      "../Desktop/agriculture-crop-images/test_crop_image/rice-828540_1280.jpg\n",
      "../Desktop/agriculture-crop-images/test_crop_image/rice-field.jpg\n",
      "../Desktop/agriculture-crop-images/test_crop_image/rice-field01.jpg\n",
      "../Desktop/agriculture-crop-images/test_crop_image/rice-field02.jpg\n",
      "../Desktop/agriculture-crop-images/test_crop_image/rice-fields-204128_1280.jpg\n",
      "../Desktop/agriculture-crop-images/test_crop_image/rice8122f869e3f.jpg\n",
      "../Desktop/agriculture-crop-images/test_crop_image/sugarcane fields.jpg\n",
      "../Desktop/agriculture-crop-images/test_crop_image/sugarcane-farm-in-the-mountain-countryside-of-thailand.jpg\n",
      "../Desktop/agriculture-crop-images/test_crop_image/sugarcane-field.jpg\n",
      "../Desktop/agriculture-crop-images/test_crop_image/sugarcane-field8.jpg\n",
      "../Desktop/agriculture-crop-images/test_crop_image/sugarcanefield.jpg\n",
      "../Desktop/agriculture-crop-images/test_crop_image/sugarcanefield02.jpg\n",
      "../Desktop/agriculture-crop-images/test_crop_image/sugarcaneplant.jpg\n",
      "../Desktop/agriculture-crop-images/test_crop_image/sugarcaneplants.jpg\n",
      "../Desktop/agriculture-crop-images/test_crop_image/wheat-crop.jpg\n",
      "../Desktop/agriculture-crop-images/test_crop_image/wheat-field-395545_960_720.jpg\n",
      "../Desktop/agriculture-crop-images/test_crop_image/wheat-field-artificial-irrigation-rural-electrification-to-harvest-166395991.jpg\n",
      "../Desktop/agriculture-crop-images/test_crop_image/wheat-field.jfif\n",
      "../Desktop/agriculture-crop-images/test_crop_image/wheat-field01.jpg\n",
      "../Desktop/agriculture-crop-images/test_crop_image/wheat-field02.jpg\n",
      "../Desktop/agriculture-crop-images/test_crop_image/wheat-field03.jpg\n",
      "../Desktop/agriculture-crop-images/test_crop_image/wheat.jpg\n",
      "../Desktop/agriculture-crop-images/test_crop_image/wheatarial02.jpg\n",
      "../Desktop/agriculture-crop-images/test_crop_image/wheatarialview.jfif\n",
      "../Desktop/agriculture-crop-images/test_crop_image/wheatcrop01.jpg\n",
      "../Desktop/agriculture-crop-images/test_crop_image/wheatcropfield.jpg\n",
      "../Desktop/agriculture-crop-images/test_crop_image/wheatcropfield04.jpg\n",
      "../Desktop/agriculture-crop-images/test_crop_image/wheatcrops.jpg\n",
      "../Desktop/agriculture-crop-images/test_crop_image/wheatss.jpg\n"
     ]
    }
   ],
   "source": [
    "import os\n",
    "for img in os.listdir('../Desktop/agriculture-crop-images/test_crop_image'):\n",
    "    print('../Desktop/agriculture-crop-images/test_crop_image/'+img)"
   ]
  },
  {
   "cell_type": "code",
   "execution_count": 14,
   "id": "fea719dd",
   "metadata": {},
   "outputs": [
    {
     "name": "stdout",
     "output_type": "stream",
     "text": [
      "jute-field.jpg \t 0\n",
      "jute002.jpg \t 3\n",
      "jute003.jpg \t 2\n",
      "jute03.jpg \t 2\n",
      "jutefield.jpg \t 2\n",
      "juteimg.jpg \t 2\n",
      "juteleaves.jpg \t 0\n",
      "juteplant.jpg \t 1\n",
      "juteplants.jpg \t 1\n",
      "maize corn set2.jpg \t 1\n",
      "maize images.jfif \t 1\n",
      "maize plant set.jpg \t 1\n",
      "maize-Field-Corn.jpg \t 1\n",
      "maize-field.jpg \t 1\n",
      "maize-field01.jpg \t 1\n",
      "maize000.jfif \t 3\n",
      "maize00corn-fields.jpg \t 1\n",
      "maize02.jfif \t 1\n",
      "maizecornleaves.jfif \t 2\n",
      "maize_fieldmexico.jpeg \t 1\n",
      "rice-4967164_1280.jpg \t 2\n",
      "rice-5174887_1280.jpg \t 4\n",
      "rice-828540_1280.jpg \t 3\n",
      "rice-field.jpg \t 2\n",
      "rice-field01.jpg \t 3\n",
      "rice-field02.jpg \t 1\n",
      "rice-fields-204128_1280.jpg \t 2\n",
      "rice8122f869e3f.jpg \t 3\n",
      "sugarcane fields.jpg \t 2\n",
      "sugarcane-farm-in-the-mountain-countryside-of-thailand.jpg \t 1\n",
      "sugarcane-field.jpg \t 2\n",
      "sugarcane-field8.jpg \t 2\n",
      "sugarcanefield.jpg \t 2\n",
      "sugarcanefield02.jpg \t 4\n",
      "sugarcaneplant.jpg \t 3\n",
      "sugarcaneplants.jpg \t 4\n",
      "wheat-crop.jpg \t 3\n",
      "wheat-field-395545_960_720.jpg \t 3\n",
      "wheat-field-artificial-irrigation-rural-electrification-to-harvest-166395991.jpg \t 3\n",
      "wheat-field.jfif \t 3\n",
      "wheat-field01.jpg \t 4\n",
      "wheat-field02.jpg \t 4\n",
      "wheat-field03.jpg \t 2\n",
      "wheat.jpg \t 4\n",
      "wheatarial02.jpg \t 1\n",
      "wheatarialview.jfif \t 3\n",
      "wheatcrop01.jpg \t 4\n",
      "wheatcropfield.jpg \t 4\n",
      "wheatcropfield04.jpg \t 3\n",
      "wheatcrops.jpg \t 4\n",
      "wheatss.jpg \t 4\n"
     ]
    }
   ],
   "source": [
    "for img in os.listdir('../Desktop/agriculture-crop-images/test_crop_image/'):\n",
    "    y=get_crop3('../Desktop/agriculture-crop-images/test_crop_image/'+img)\n",
    "    print(img,'\\t',y)"
   ]
  },
  {
   "cell_type": "code",
   "execution_count": null,
   "id": "3ff0ea4c",
   "metadata": {},
   "outputs": [],
   "source": []
  }
 ],
 "metadata": {
  "kernelspec": {
   "display_name": "Python 3 (ipykernel)",
   "language": "python",
   "name": "python3"
  },
  "language_info": {
   "codemirror_mode": {
    "name": "ipython",
    "version": 3
   },
   "file_extension": ".py",
   "mimetype": "text/x-python",
   "name": "python",
   "nbconvert_exporter": "python",
   "pygments_lexer": "ipython3",
   "version": "3.11.4"
  }
 },
 "nbformat": 4,
 "nbformat_minor": 5
}
