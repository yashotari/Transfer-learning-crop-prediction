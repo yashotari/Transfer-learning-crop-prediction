{
 "cells": [
  {
   "cell_type": "code",
   "execution_count": 1,
   "id": "4e6c2250",
   "metadata": {
    "_cell_guid": "b1076dfc-b9ad-4769-8c92-a6c4dae69d19",
    "_uuid": "8f2839f25d086af736a60e9eeb907d3b93b6e0e5",
    "execution": {
     "iopub.execute_input": "2023-09-21T11:32:36.240601Z",
     "iopub.status.busy": "2023-09-21T11:32:36.240236Z",
     "iopub.status.idle": "2023-09-21T11:32:36.989820Z",
     "shell.execute_reply": "2023-09-21T11:32:36.988929Z"
    },
    "papermill": {
     "duration": 0.757613,
     "end_time": "2023-09-21T11:32:36.992116",
     "exception": false,
     "start_time": "2023-09-21T11:32:36.234503",
     "status": "completed"
    },
    "tags": []
   },
   "outputs": [
    {
     "data": {
      "text/plain": [
       "\"for dirname, _, filenames in os.walk('/kaggle/input'):\\n    for filename in filenames:\\n        print(os.path.join(dirname, filename))\""
      ]
     },
     "execution_count": 1,
     "metadata": {},
     "output_type": "execute_result"
    }
   ],
   "source": [
    "import numpy as np \n",
    "import pandas as pd \n",
    "\n",
    "import os\n",
    "'''for dirname, _, filenames in os.walk('/kaggle/input'):\n",
    "    for filename in filenames:\n",
    "        print(os.path.join(dirname, filename))'''"
   ]
  },
  {
   "cell_type": "code",
   "execution_count": 2,
   "id": "dcba6a07",
   "metadata": {
    "execution": {
     "iopub.execute_input": "2023-09-21T11:32:37.002124Z",
     "iopub.status.busy": "2023-09-21T11:32:37.000841Z",
     "iopub.status.idle": "2023-09-21T11:32:37.005893Z",
     "shell.execute_reply": "2023-09-21T11:32:37.005040Z"
    },
    "papermill": {
     "duration": 0.011753,
     "end_time": "2023-09-21T11:32:37.007923",
     "exception": false,
     "start_time": "2023-09-21T11:32:36.996170",
     "status": "completed"
    },
    "tags": []
   },
   "outputs": [],
   "source": [
    "path = '/Users/HP/kaggle/input/agriculture-crop-images/crop_images'\n",
    "path1= '/Users/HP/kaggle/input/agriculture-crop-images/kag2'\n"
   ]
  },
  {
   "cell_type": "code",
   "execution_count": 3,
   "id": "dec5d461",
   "metadata": {
    "execution": {
     "iopub.execute_input": "2023-09-21T11:32:37.016390Z",
     "iopub.status.busy": "2023-09-21T11:32:37.016129Z",
     "iopub.status.idle": "2023-09-21T11:32:45.963052Z",
     "shell.execute_reply": "2023-09-21T11:32:45.962081Z"
    },
    "papermill": {
     "duration": 8.953833,
     "end_time": "2023-09-21T11:32:45.965444",
     "exception": false,
     "start_time": "2023-09-21T11:32:37.011611",
     "status": "completed"
    },
    "tags": []
   },
   "outputs": [],
   "source": [
    "from tensorflow.keras.preprocessing.image import ImageDataGenerator"
   ]
  },
  {
   "cell_type": "code",
   "execution_count": 4,
   "id": "400887e3",
   "metadata": {
    "execution": {
     "iopub.execute_input": "2023-09-21T11:32:45.974828Z",
     "iopub.status.busy": "2023-09-21T11:32:45.974296Z",
     "iopub.status.idle": "2023-09-21T11:32:45.979648Z",
     "shell.execute_reply": "2023-09-21T11:32:45.978651Z"
    },
    "papermill": {
     "duration": 0.012264,
     "end_time": "2023-09-21T11:32:45.981800",
     "exception": false,
     "start_time": "2023-09-21T11:32:45.969536",
     "status": "completed"
    },
    "tags": []
   },
   "outputs": [],
   "source": [
    "data_gen = ImageDataGenerator(zoom_range=0.2,rotation_range=0.2,horizontal_flip=True, rescale=1/255)\n",
    "data_gen1 = ImageDataGenerator(zoom_range=0.2,rotation_range=0.2,horizontal_flip=True,rescale=1/255)"
   ]
  },
  {
   "cell_type": "code",
   "execution_count": 5,
   "id": "ff53a05d",
   "metadata": {
    "execution": {
     "iopub.execute_input": "2023-09-21T11:32:45.990533Z",
     "iopub.status.busy": "2023-09-21T11:32:45.990270Z",
     "iopub.status.idle": "2023-09-21T11:32:46.261728Z",
     "shell.execute_reply": "2023-09-21T11:32:46.260806Z"
    },
    "papermill": {
     "duration": 0.278367,
     "end_time": "2023-09-21T11:32:46.264070",
     "exception": false,
     "start_time": "2023-09-21T11:32:45.985703",
     "status": "completed"
    },
    "tags": []
   },
   "outputs": [
    {
     "name": "stdout",
     "output_type": "stream",
     "text": [
      "Found 201 images belonging to 5 classes.\n",
      "Found 804 images belonging to 5 classes.\n"
     ]
    }
   ],
   "source": [
    "train_data= data_gen.flow_from_directory(path, target_size=(224,224), batch_size=64, class_mode='categorical')\n",
    "train_data1 = data_gen1.flow_from_directory(path1,target_size=(224,224),batch_size=64, class_mode='categorical')"
   ]
  },
  {
   "cell_type": "code",
   "execution_count": 6,
   "id": "894aead2",
   "metadata": {
    "execution": {
     "iopub.execute_input": "2023-09-21T11:32:46.274505Z",
     "iopub.status.busy": "2023-09-21T11:32:46.274179Z",
     "iopub.status.idle": "2023-09-21T11:32:46.281306Z",
     "shell.execute_reply": "2023-09-21T11:32:46.280325Z"
    },
    "papermill": {
     "duration": 0.01505,
     "end_time": "2023-09-21T11:32:46.283521",
     "exception": false,
     "start_time": "2023-09-21T11:32:46.268471",
     "status": "completed"
    },
    "tags": []
   },
   "outputs": [],
   "source": [
    "from tensorflow.keras.models import Model\n",
    "from tensorflow.keras.layers import Flatten, Dense\n",
    "from tensorflow.keras.applications import InceptionV3"
   ]
  },
  {
   "cell_type": "code",
   "execution_count": 7,
   "id": "a87b494f",
   "metadata": {
    "execution": {
     "iopub.execute_input": "2023-09-21T11:32:46.293502Z",
     "iopub.status.busy": "2023-09-21T11:32:46.293193Z",
     "iopub.status.idle": "2023-09-21T11:32:54.314969Z",
     "shell.execute_reply": "2023-09-21T11:32:54.313932Z"
    },
    "papermill": {
     "duration": 8.029638,
     "end_time": "2023-09-21T11:32:54.317694",
     "exception": false,
     "start_time": "2023-09-21T11:32:46.288056",
     "status": "completed"
    },
    "tags": []
   },
   "outputs": [],
   "source": [
    "inception= InceptionV3(include_top=False, input_shape=(224,224,3))\n",
    "for layer in inception.layers:\n",
    "    layer.trainable=False\n",
    "final_layer = Dense(5,activation='softmax')(Flatten()(inception.output))"
   ]
  },
  {
   "cell_type": "code",
   "execution_count": 8,
   "id": "e9f8e1eb",
   "metadata": {
    "execution": {
     "iopub.execute_input": "2023-09-21T11:32:54.330371Z",
     "iopub.status.busy": "2023-09-21T11:32:54.330042Z",
     "iopub.status.idle": "2023-09-21T11:32:54.373163Z",
     "shell.execute_reply": "2023-09-21T11:32:54.372284Z"
    },
    "papermill": {
     "duration": 0.051474,
     "end_time": "2023-09-21T11:32:54.375241",
     "exception": false,
     "start_time": "2023-09-21T11:32:54.323767",
     "status": "completed"
    },
    "tags": []
   },
   "outputs": [],
   "source": [
    "model=Model(inputs=inception.input, outputs = final_layer)\n",
    "model.compile(loss='categorical_crossentropy', metrics=['accuracy'])"
   ]
  },
  {
   "cell_type": "code",
   "execution_count": 9,
   "id": "ab745325",
   "metadata": {
    "execution": {
     "iopub.execute_input": "2023-09-21T11:32:54.386557Z",
     "iopub.status.busy": "2023-09-21T11:32:54.386273Z",
     "iopub.status.idle": "2023-09-21T11:32:54.424336Z",
     "shell.execute_reply": "2023-09-21T11:32:54.423419Z"
    },
    "papermill": {
     "duration": 0.046166,
     "end_time": "2023-09-21T11:32:54.426433",
     "exception": false,
     "start_time": "2023-09-21T11:32:54.380267",
     "status": "completed"
    },
    "tags": []
   },
   "outputs": [],
   "source": [
    "model1=Model(inputs=inception.input, outputs = final_layer)\n",
    "model1.compile(loss='categorical_crossentropy', metrics=['accuracy'])"
   ]
  },
  {
   "cell_type": "code",
   "execution_count": 10,
   "id": "a1d5b82e",
   "metadata": {
    "execution": {
     "iopub.execute_input": "2023-09-21T11:32:54.438654Z",
     "iopub.status.busy": "2023-09-21T11:32:54.438329Z",
     "iopub.status.idle": "2023-09-21T11:33:26.911815Z",
     "shell.execute_reply": "2023-09-21T11:33:26.910708Z"
    },
    "papermill": {
     "duration": 32.48228,
     "end_time": "2023-09-21T11:33:26.914378",
     "exception": false,
     "start_time": "2023-09-21T11:32:54.432098",
     "status": "completed"
    },
    "tags": []
   },
   "outputs": [
    {
     "name": "stdout",
     "output_type": "stream",
     "text": [
      "Epoch 1/5\n",
      "4/4 [==============================] - 22s 4s/step - loss: 25.3682 - accuracy: 0.2637\n",
      "Epoch 2/5\n",
      "4/4 [==============================] - 16s 3s/step - loss: 17.1638 - accuracy: 0.3532\n",
      "Epoch 3/5\n",
      "4/4 [==============================] - 15s 3s/step - loss: 9.0664 - accuracy: 0.4527\n",
      "Epoch 4/5\n",
      "4/4 [==============================] - 14s 5s/step - loss: 10.4553 - accuracy: 0.4478\n",
      "Epoch 5/5\n",
      "4/4 [==============================] - 14s 5s/step - loss: 4.5177 - accuracy: 0.5771\n"
     ]
    },
    {
     "data": {
      "text/plain": [
       "<keras.src.callbacks.History at 0x20e8528f2d0>"
      ]
     },
     "execution_count": 10,
     "metadata": {},
     "output_type": "execute_result"
    }
   ],
   "source": [
    "model.fit(train_data,epochs=5)\n"
   ]
  },
  {
   "cell_type": "code",
   "execution_count": 11,
   "id": "4b7de067",
   "metadata": {
    "execution": {
     "iopub.execute_input": "2023-09-21T11:33:26.931514Z",
     "iopub.status.busy": "2023-09-21T11:33:26.931222Z",
     "iopub.status.idle": "2023-09-21T11:33:48.407148Z",
     "shell.execute_reply": "2023-09-21T11:33:48.406184Z"
    },
    "papermill": {
     "duration": 21.486661,
     "end_time": "2023-09-21T11:33:48.409300",
     "exception": false,
     "start_time": "2023-09-21T11:33:26.922639",
     "status": "completed"
    },
    "tags": []
   },
   "outputs": [
    {
     "name": "stdout",
     "output_type": "stream",
     "text": [
      "Epoch 1/5\n",
      "4/4 [==============================] - 21s 3s/step - loss: 7.3817 - accuracy: 0.5771\n",
      "Epoch 2/5\n",
      "4/4 [==============================] - 13s 4s/step - loss: 15.7903 - accuracy: 0.3731\n",
      "Epoch 3/5\n",
      "4/4 [==============================] - 13s 3s/step - loss: 5.3200 - accuracy: 0.5721\n",
      "Epoch 4/5\n",
      "4/4 [==============================] - 13s 3s/step - loss: 0.6041 - accuracy: 0.8856\n",
      "Epoch 5/5\n",
      "4/4 [==============================] - 15s 3s/step - loss: 0.7274 - accuracy: 0.8756\n"
     ]
    },
    {
     "data": {
      "text/plain": [
       "<keras.src.callbacks.History at 0x20e8516b210>"
      ]
     },
     "execution_count": 11,
     "metadata": {},
     "output_type": "execute_result"
    }
   ],
   "source": [
    "model1.fit(train_data,epochs=5)\n"
   ]
  },
  {
   "cell_type": "code",
   "execution_count": 16,
   "id": "8b65395c",
   "metadata": {},
   "outputs": [],
   "source": [
    "def get_pred_res(path):\n",
    "    A = cv2.imread('/Users/HP/kaggle/input/agriculture-crop-images/test_crop_image/'+file)\n",
    "    A = cv2.resize(A,(224,224))\n",
    "    A = A.reshape(1,224,224,3)/255\n",
    "    y = model1.predict(A).argmax()\n",
    "    if y==0:\n",
    "        return 'jute'\n",
    "    elif y==1:\n",
    "        return 'maize'\n",
    "    elif y==2:\n",
    "        return 'rice'\n",
    "    elif y==3:\n",
    "        return 'sugarcane'\n",
    "    else:\n",
    "        return 'wheat'"
   ]
  },
  {
   "cell_type": "code",
   "execution_count": 17,
   "id": "6a983ccb",
   "metadata": {},
   "outputs": [],
   "source": [
    "Test_result=os.listdir('/Users/HP/kaggle/input/agriculture-crop-images/test_crop_image')"
   ]
  },
  {
   "cell_type": "code",
   "execution_count": 18,
   "id": "674ae99e",
   "metadata": {},
   "outputs": [],
   "source": [
    "import cv2"
   ]
  },
  {
   "cell_type": "code",
   "execution_count": 19,
   "id": "02204c17",
   "metadata": {},
   "outputs": [
    {
     "name": "stdout",
     "output_type": "stream",
     "text": [
      "1/1 [==============================] - 2s 2s/step\n",
      "1/1 [==============================] - 0s 63ms/step\n",
      "1/1 [==============================] - 0s 74ms/step\n",
      "1/1 [==============================] - 0s 66ms/step\n",
      "1/1 [==============================] - 0s 69ms/step\n",
      "1/1 [==============================] - 0s 66ms/step\n",
      "1/1 [==============================] - 0s 75ms/step\n",
      "1/1 [==============================] - 0s 69ms/step\n",
      "1/1 [==============================] - 0s 130ms/step\n",
      "1/1 [==============================] - 0s 131ms/step\n",
      "1/1 [==============================] - 0s 134ms/step\n",
      "1/1 [==============================] - 0s 200ms/step\n",
      "1/1 [==============================] - 0s 116ms/step\n",
      "1/1 [==============================] - 0s 138ms/step\n",
      "1/1 [==============================] - 0s 120ms/step\n",
      "1/1 [==============================] - 0s 120ms/step\n",
      "1/1 [==============================] - 0s 150ms/step\n",
      "1/1 [==============================] - 0s 172ms/step\n",
      "1/1 [==============================] - 0s 182ms/step\n",
      "1/1 [==============================] - 0s 170ms/step\n",
      "1/1 [==============================] - 0s 120ms/step\n",
      "1/1 [==============================] - 0s 110ms/step\n",
      "1/1 [==============================] - 0s 67ms/step\n",
      "1/1 [==============================] - 0s 63ms/step\n",
      "1/1 [==============================] - 0s 61ms/step\n",
      "1/1 [==============================] - 0s 69ms/step\n",
      "1/1 [==============================] - 0s 149ms/step\n",
      "1/1 [==============================] - 0s 144ms/step\n",
      "1/1 [==============================] - 0s 142ms/step\n",
      "1/1 [==============================] - 0s 132ms/step\n",
      "1/1 [==============================] - 0s 96ms/step\n",
      "1/1 [==============================] - 0s 110ms/step\n",
      "1/1 [==============================] - 0s 110ms/step\n",
      "1/1 [==============================] - 0s 127ms/step\n",
      "1/1 [==============================] - 0s 117ms/step\n",
      "1/1 [==============================] - 0s 212ms/step\n",
      "1/1 [==============================] - 0s 180ms/step\n",
      "1/1 [==============================] - 0s 191ms/step\n",
      "1/1 [==============================] - 0s 118ms/step\n",
      "1/1 [==============================] - 0s 114ms/step\n",
      "1/1 [==============================] - 0s 125ms/step\n",
      "1/1 [==============================] - 0s 114ms/step\n",
      "1/1 [==============================] - 0s 140ms/step\n",
      "1/1 [==============================] - 0s 123ms/step\n",
      "1/1 [==============================] - 0s 130ms/step\n",
      "1/1 [==============================] - 0s 140ms/step\n",
      "1/1 [==============================] - 0s 132ms/step\n",
      "1/1 [==============================] - 0s 68ms/step\n",
      "1/1 [==============================] - 0s 76ms/step\n",
      "1/1 [==============================] - 0s 76ms/step\n",
      "1/1 [==============================] - 0s 69ms/step\n"
     ]
    },
    {
     "data": {
      "text/plain": [
       "[['jute-field.jpg', 'jute'],\n",
       " ['jute002.jpg', 'maize'],\n",
       " ['jute003.jpg', 'sugarcane'],\n",
       " ['jute03.jpg', 'wheat'],\n",
       " ['jutefield.jpg', 'maize'],\n",
       " ['juteimg.jpg', 'wheat'],\n",
       " ['juteleaves.jpg', 'jute'],\n",
       " ['juteplant.jpg', 'maize'],\n",
       " ['juteplants.jpg', 'jute'],\n",
       " ['maize corn set2.jpg', 'maize'],\n",
       " ['maize images.jfif', 'maize'],\n",
       " ['maize plant set.jpg', 'maize'],\n",
       " ['maize-Field-Corn.jpg', 'wheat'],\n",
       " ['maize-field.jpg', 'wheat'],\n",
       " ['maize-field01.jpg', 'wheat'],\n",
       " ['maize000.jfif', 'maize'],\n",
       " ['maize00corn-fields.jpg', 'maize'],\n",
       " ['maize02.jfif', 'maize'],\n",
       " ['maizecornleaves.jfif', 'maize'],\n",
       " ['maize_fieldmexico.jpeg', 'maize'],\n",
       " ['rice-4967164_1280.jpg', 'wheat'],\n",
       " ['rice-5174887_1280.jpg', 'wheat'],\n",
       " ['rice-828540_1280.jpg', 'maize'],\n",
       " ['rice-field.jpg', 'wheat'],\n",
       " ['rice-field01.jpg', 'rice'],\n",
       " ['rice-field02.jpg', 'jute'],\n",
       " ['rice-fields-204128_1280.jpg', 'rice'],\n",
       " ['rice8122f869e3f.jpg', 'wheat'],\n",
       " ['sugarcane fields.jpg', 'maize'],\n",
       " ['sugarcane-farm-in-the-mountain-countryside-of-thailand.jpg', 'maize'],\n",
       " ['sugarcane-field.jpg', 'maize'],\n",
       " ['sugarcane-field8.jpg', 'wheat'],\n",
       " ['sugarcanefield.jpg', 'wheat'],\n",
       " ['sugarcanefield02.jpg', 'wheat'],\n",
       " ['sugarcaneplant.jpg', 'sugarcane'],\n",
       " ['sugarcaneplants.jpg', 'wheat'],\n",
       " ['wheat-crop.jpg', 'wheat'],\n",
       " ['wheat-field-395545_960_720.jpg', 'maize'],\n",
       " ['wheat-field-artificial-irrigation-rural-electrification-to-harvest-166395991.jpg',\n",
       "  'wheat'],\n",
       " ['wheat-field.jfif', 'sugarcane'],\n",
       " ['wheat-field01.jpg', 'wheat'],\n",
       " ['wheat-field02.jpg', 'wheat'],\n",
       " ['wheat-field03.jpg', 'wheat'],\n",
       " ['wheat.jpg', 'wheat'],\n",
       " ['wheatarial02.jpg', 'jute'],\n",
       " ['wheatarialview.jfif', 'maize'],\n",
       " ['wheatcrop01.jpg', 'wheat'],\n",
       " ['wheatcropfield.jpg', 'wheat'],\n",
       " ['wheatcropfield04.jpg', 'maize'],\n",
       " ['wheatcrops.jpg', 'wheat'],\n",
       " ['wheatss.jpg', 'wheat']]"
      ]
     },
     "execution_count": 19,
     "metadata": {},
     "output_type": "execute_result"
    }
   ],
   "source": [
    "Output_res=[]\n",
    "for file in Test_result:\n",
    "    Output_res.append([file,get_pred_res(file)])\n",
    "Output_res"
   ]
  },
  {
   "cell_type": "code",
   "execution_count": null,
   "id": "91d5e4fd",
   "metadata": {},
   "outputs": [],
   "source": []
  }
 ],
 "metadata": {
  "kernelspec": {
   "display_name": "Python 3 (ipykernel)",
   "language": "python",
   "name": "python3"
  },
  "language_info": {
   "codemirror_mode": {
    "name": "ipython",
    "version": 3
   },
   "file_extension": ".py",
   "mimetype": "text/x-python",
   "name": "python",
   "nbconvert_exporter": "python",
   "pygments_lexer": "ipython3",
   "version": "3.11.4"
  },
  "papermill": {
   "default_parameters": {},
   "duration": 79.707486,
   "end_time": "2023-09-21T11:33:52.327345",
   "environment_variables": {},
   "exception": null,
   "input_path": "__notebook__.ipynb",
   "output_path": "__notebook__.ipynb",
   "parameters": {},
   "start_time": "2023-09-21T11:32:32.619859",
   "version": "2.4.0"
  }
 },
 "nbformat": 4,
 "nbformat_minor": 5
}
