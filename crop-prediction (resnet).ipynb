{
 "cells": [
  {
   "cell_type": "code",
   "execution_count": 1,
   "id": "0201e441",
   "metadata": {},
   "outputs": [],
   "source": [
    "import numpy as np \n",
    "import pandas as pd \n",
    "import os"
   ]
  },
  {
   "cell_type": "code",
   "execution_count": 2,
   "id": "31a0c3b0",
   "metadata": {},
   "outputs": [],
   "source": [
    "from tensorflow.keras.preprocessing.image import ImageDataGenerator"
   ]
  },
  {
   "cell_type": "code",
   "execution_count": 3,
   "id": "4cfc89f0",
   "metadata": {},
   "outputs": [],
   "source": [
    "data_gen = ImageDataGenerator(zoom_range=0.2,\n",
    "                              rotation_range=0.2,\n",
    "                              horizontal_flip=True,\n",
    "                              rescale=1/255)"
   ]
  },
  {
   "cell_type": "code",
   "execution_count": 4,
   "id": "5bdde6d0",
   "metadata": {},
   "outputs": [],
   "source": [
    "path = '/Users/HP/kaggle/input/agriculture-crop-images/crop_images'\n",
    "path1= '/Users/HP/kaggle/input/agriculture-crop-images/kag2'"
   ]
  },
  {
   "cell_type": "code",
   "execution_count": 5,
   "id": "0318cb0d",
   "metadata": {},
   "outputs": [
    {
     "name": "stdout",
     "output_type": "stream",
     "text": [
      "Found 201 images belonging to 5 classes.\n",
      "Found 804 images belonging to 5 classes.\n"
     ]
    }
   ],
   "source": [
    "train_data_1 = data_gen.flow_from_directory(path,\n",
    "                             target_size=(224,224))\n",
    "train_data_2 = data_gen.flow_from_directory(path1,\n",
    "                                            target_size=(224,224))"
   ]
  },
  {
   "cell_type": "code",
   "execution_count": 6,
   "id": "b5e47f7a",
   "metadata": {},
   "outputs": [],
   "source": [
    "from tensorflow.keras.layers import Dense, Conv2D, MaxPool2D, Flatten\n",
    "from tensorflow.keras.models import Sequential, Model"
   ]
  },
  {
   "cell_type": "code",
   "execution_count": 7,
   "id": "1ba6e547",
   "metadata": {},
   "outputs": [],
   "source": [
    "from tensorflow.keras.applications.resnet50 import ResNet50"
   ]
  },
  {
   "cell_type": "code",
   "execution_count": 8,
   "id": "c72742c1",
   "metadata": {},
   "outputs": [
    {
     "name": "stdout",
     "output_type": "stream",
     "text": [
      "Downloading data from https://storage.googleapis.com/tensorflow/keras-applications/resnet/resnet50_weights_tf_dim_ordering_tf_kernels_notop.h5\n",
      "94765736/94765736 [==============================] - 23s 0us/step\n"
     ]
    }
   ],
   "source": [
    "res_model=ResNet50(include_top=False,input_shape=(224,224,3))"
   ]
  },
  {
   "cell_type": "code",
   "execution_count": 9,
   "id": "2ef750cf",
   "metadata": {},
   "outputs": [],
   "source": [
    "for layer in res_model.layers:\n",
    "    layer.trainable=False"
   ]
  },
  {
   "cell_type": "code",
   "execution_count": 10,
   "id": "f0689b9c",
   "metadata": {},
   "outputs": [],
   "source": [
    "last_layer= Dense(5,activation='softmax',)(Flatten()(res_model.output))"
   ]
  },
  {
   "cell_type": "code",
   "execution_count": 11,
   "id": "2876e48f",
   "metadata": {},
   "outputs": [],
   "source": [
    "model_res=Model(inputs=res_model.input ,outputs=last_layer)"
   ]
  },
  {
   "cell_type": "code",
   "execution_count": 12,
   "id": "f66caa4b",
   "metadata": {},
   "outputs": [],
   "source": [
    "model_res.compile(loss='categorical_crossentropy', metrics=['accuracy'])"
   ]
  },
  {
   "cell_type": "code",
   "execution_count": 19,
   "id": "e921e92d",
   "metadata": {},
   "outputs": [
    {
     "name": "stdout",
     "output_type": "stream",
     "text": [
      "Epoch 1/15\n",
      "7/7 [==============================] - 32s 3s/step - loss: 19.1879 - accuracy: 0.1940\n",
      "Epoch 2/15\n",
      "7/7 [==============================] - 26s 4s/step - loss: 11.6085 - accuracy: 0.2537\n",
      "Epoch 3/15\n",
      "7/7 [==============================] - 25s 3s/step - loss: 11.2678 - accuracy: 0.2040\n",
      "Epoch 4/15\n",
      "7/7 [==============================] - 25s 3s/step - loss: 7.4391 - accuracy: 0.2289\n",
      "Epoch 5/15\n",
      "7/7 [==============================] - 24s 3s/step - loss: 9.3683 - accuracy: 0.1940\n",
      "Epoch 6/15\n",
      "7/7 [==============================] - 24s 3s/step - loss: 8.8360 - accuracy: 0.1891\n",
      "Epoch 7/15\n",
      "7/7 [==============================] - 26s 4s/step - loss: 9.6954 - accuracy: 0.1791\n",
      "Epoch 8/15\n",
      "7/7 [==============================] - 26s 4s/step - loss: 6.9839 - accuracy: 0.2338\n",
      "Epoch 9/15\n",
      "7/7 [==============================] - 29s 4s/step - loss: 9.7774 - accuracy: 0.2139\n",
      "Epoch 10/15\n",
      "7/7 [==============================] - 25s 4s/step - loss: 8.7402 - accuracy: 0.2239\n",
      "Epoch 11/15\n",
      "7/7 [==============================] - 27s 4s/step - loss: 7.6449 - accuracy: 0.2786\n",
      "Epoch 12/15\n",
      "7/7 [==============================] - 25s 3s/step - loss: 10.6385 - accuracy: 0.1940\n",
      "Epoch 13/15\n",
      "7/7 [==============================] - 24s 3s/step - loss: 6.6336 - accuracy: 0.2985\n",
      "Epoch 14/15\n",
      "7/7 [==============================] - 25s 3s/step - loss: 8.6509 - accuracy: 0.2338\n",
      "Epoch 15/15\n",
      "7/7 [==============================] - 25s 3s/step - loss: 9.2260 - accuracy: 0.2040\n"
     ]
    },
    {
     "data": {
      "text/plain": [
       "<keras.src.callbacks.History at 0x22124a62d90>"
      ]
     },
     "execution_count": 19,
     "metadata": {},
     "output_type": "execute_result"
    }
   ],
   "source": [
    "model_res.fit(train_data_1, epochs=15)"
   ]
  },
  {
   "cell_type": "code",
   "execution_count": 20,
   "id": "9de01262",
   "metadata": {},
   "outputs": [
    {
     "name": "stdout",
     "output_type": "stream",
     "text": [
      "Epoch 1/15\n",
      "26/26 [==============================] - 98s 4s/step - loss: 7.7098 - accuracy: 0.2749\n",
      "Epoch 2/15\n",
      "26/26 [==============================] - 96s 4s/step - loss: 8.2097 - accuracy: 0.2612\n",
      "Epoch 3/15\n",
      "26/26 [==============================] - 96s 4s/step - loss: 7.4751 - accuracy: 0.2948\n",
      "Epoch 4/15\n",
      "26/26 [==============================] - 100s 4s/step - loss: 8.1016 - accuracy: 0.2674\n",
      "Epoch 5/15\n",
      "26/26 [==============================] - 96s 4s/step - loss: 7.2633 - accuracy: 0.2848\n",
      "Epoch 6/15\n",
      "26/26 [==============================] - 98s 4s/step - loss: 8.0597 - accuracy: 0.2699\n",
      "Epoch 7/15\n",
      "26/26 [==============================] - 96s 4s/step - loss: 7.1784 - accuracy: 0.3072\n",
      "Epoch 8/15\n",
      "26/26 [==============================] - 95s 4s/step - loss: 7.7027 - accuracy: 0.2910\n",
      "Epoch 9/15\n",
      "26/26 [==============================] - 96s 4s/step - loss: 7.1470 - accuracy: 0.3085\n",
      "Epoch 10/15\n",
      "26/26 [==============================] - 91s 3s/step - loss: 6.8728 - accuracy: 0.3284\n",
      "Epoch 11/15\n",
      "26/26 [==============================] - 96s 4s/step - loss: 8.1263 - accuracy: 0.2861\n",
      "Epoch 12/15\n",
      "26/26 [==============================] - 95s 4s/step - loss: 6.1111 - accuracy: 0.3109\n",
      "Epoch 13/15\n",
      "26/26 [==============================] - 94s 4s/step - loss: 6.2861 - accuracy: 0.3570\n",
      "Epoch 14/15\n",
      "26/26 [==============================] - 95s 4s/step - loss: 7.2469 - accuracy: 0.3085\n",
      "Epoch 15/15\n",
      "26/26 [==============================] - 95s 4s/step - loss: 6.5756 - accuracy: 0.3221\n"
     ]
    },
    {
     "data": {
      "text/plain": [
       "<keras.src.callbacks.History at 0x22124b4e710>"
      ]
     },
     "execution_count": 20,
     "metadata": {},
     "output_type": "execute_result"
    }
   ],
   "source": [
    "model_res.fit(train_data_2, epochs=15)"
   ]
  },
  {
   "cell_type": "code",
   "execution_count": 21,
   "id": "0a285350",
   "metadata": {},
   "outputs": [],
   "source": [
    "def get_pred_res(path):\n",
    "    A = cv2.imread('/Users/HP/kaggle/input/agriculture-crop-images/test_crop_image/'+file)\n",
    "    A = cv2.resize(A,(224,224))\n",
    "    A = A.reshape(1,224,224,3)/255\n",
    "    y = model_res.predict(A).argmax()\n",
    "    if y==0:\n",
    "        return 'jute'\n",
    "    elif y==1:\n",
    "        return 'maize'\n",
    "    elif y==2:\n",
    "        return 'rice'\n",
    "    elif y==3:\n",
    "        return 'sugarcane'\n",
    "    else:\n",
    "        return 'wheat'"
   ]
  },
  {
   "cell_type": "code",
   "execution_count": 22,
   "id": "6147d6fd",
   "metadata": {},
   "outputs": [],
   "source": [
    "Test_result=os.listdir('/Users/HP/kaggle/input/agriculture-crop-images/test_crop_image')"
   ]
  },
  {
   "cell_type": "code",
   "execution_count": 23,
   "id": "46090282",
   "metadata": {},
   "outputs": [],
   "source": [
    "import cv2"
   ]
  },
  {
   "cell_type": "code",
   "execution_count": 18,
   "id": "3bb8c0c6",
   "metadata": {},
   "outputs": [
    {
     "name": "stdout",
     "output_type": "stream",
     "text": [
      "1/1 [==============================] - 9s 9s/step\n",
      "1/1 [==============================] - 0s 109ms/step\n",
      "1/1 [==============================] - 0s 187ms/step\n",
      "1/1 [==============================] - 0s 190ms/step\n",
      "1/1 [==============================] - 0s 280ms/step\n",
      "1/1 [==============================] - 0s 283ms/step\n",
      "1/1 [==============================] - 0s 209ms/step\n",
      "1/1 [==============================] - 0s 200ms/step\n",
      "1/1 [==============================] - 0s 187ms/step\n",
      "1/1 [==============================] - 0s 180ms/step\n",
      "1/1 [==============================] - 0s 270ms/step\n",
      "1/1 [==============================] - 0s 278ms/step\n",
      "1/1 [==============================] - 0s 141ms/step\n",
      "1/1 [==============================] - 0s 112ms/step\n",
      "1/1 [==============================] - 0s 112ms/step\n",
      "1/1 [==============================] - 0s 111ms/step\n",
      "1/1 [==============================] - 0s 114ms/step\n",
      "1/1 [==============================] - 0s 134ms/step\n",
      "1/1 [==============================] - 0s 186ms/step\n",
      "1/1 [==============================] - 0s 284ms/step\n",
      "1/1 [==============================] - 0s 330ms/step\n",
      "1/1 [==============================] - 0s 185ms/step\n",
      "1/1 [==============================] - 0s 110ms/step\n",
      "1/1 [==============================] - 0s 105ms/step\n",
      "1/1 [==============================] - 0s 110ms/step\n",
      "1/1 [==============================] - 0s 154ms/step\n",
      "1/1 [==============================] - 0s 212ms/step\n",
      "1/1 [==============================] - 0s 202ms/step\n",
      "1/1 [==============================] - 0s 205ms/step\n",
      "1/1 [==============================] - 0s 176ms/step\n",
      "1/1 [==============================] - 0s 180ms/step\n",
      "1/1 [==============================] - 0s 190ms/step\n",
      "1/1 [==============================] - 0s 250ms/step\n",
      "1/1 [==============================] - 0s 256ms/step\n",
      "1/1 [==============================] - 0s 222ms/step\n",
      "1/1 [==============================] - 0s 118ms/step\n",
      "1/1 [==============================] - 0s 114ms/step\n",
      "1/1 [==============================] - 0s 113ms/step\n",
      "1/1 [==============================] - 0s 118ms/step\n",
      "1/1 [==============================] - 0s 129ms/step\n",
      "1/1 [==============================] - 0s 142ms/step\n",
      "1/1 [==============================] - 0s 279ms/step\n",
      "1/1 [==============================] - 0s 273ms/step\n",
      "1/1 [==============================] - 0s 178ms/step\n",
      "1/1 [==============================] - 0s 178ms/step\n",
      "1/1 [==============================] - 0s 189ms/step\n",
      "1/1 [==============================] - 0s 180ms/step\n",
      "1/1 [==============================] - 0s 270ms/step\n",
      "1/1 [==============================] - 0s 243ms/step\n",
      "1/1 [==============================] - 0s 110ms/step\n",
      "1/1 [==============================] - 0s 107ms/step\n"
     ]
    },
    {
     "data": {
      "text/plain": [
       "[['jute-field.jpg', 'wheat'],\n",
       " ['jute002.jpg', 'wheat'],\n",
       " ['jute003.jpg', 'wheat'],\n",
       " ['jute03.jpg', 'sugarcane'],\n",
       " ['jutefield.jpg', 'sugarcane'],\n",
       " ['juteimg.jpg', 'sugarcane'],\n",
       " ['juteleaves.jpg', 'sugarcane'],\n",
       " ['juteplant.jpg', 'sugarcane'],\n",
       " ['juteplants.jpg', 'sugarcane'],\n",
       " ['maize corn set2.jpg', 'sugarcane'],\n",
       " ['maize images.jfif', 'sugarcane'],\n",
       " ['maize plant set.jpg', 'sugarcane'],\n",
       " ['maize-Field-Corn.jpg', 'wheat'],\n",
       " ['maize-field.jpg', 'sugarcane'],\n",
       " ['maize-field01.jpg', 'wheat'],\n",
       " ['maize000.jfif', 'sugarcane'],\n",
       " ['maize00corn-fields.jpg', 'sugarcane'],\n",
       " ['maize02.jfif', 'sugarcane'],\n",
       " ['maizecornleaves.jfif', 'sugarcane'],\n",
       " ['maize_fieldmexico.jpeg', 'sugarcane'],\n",
       " ['rice-4967164_1280.jpg', 'sugarcane'],\n",
       " ['rice-5174887_1280.jpg', 'sugarcane'],\n",
       " ['rice-828540_1280.jpg', 'sugarcane'],\n",
       " ['rice-field.jpg', 'sugarcane'],\n",
       " ['rice-field01.jpg', 'wheat'],\n",
       " ['rice-field02.jpg', 'sugarcane'],\n",
       " ['rice-fields-204128_1280.jpg', 'sugarcane'],\n",
       " ['rice8122f869e3f.jpg', 'sugarcane'],\n",
       " ['sugarcane fields.jpg', 'sugarcane'],\n",
       " ['sugarcane-farm-in-the-mountain-countryside-of-thailand.jpg', 'sugarcane'],\n",
       " ['sugarcane-field.jpg', 'sugarcane'],\n",
       " ['sugarcane-field8.jpg', 'wheat'],\n",
       " ['sugarcanefield.jpg', 'sugarcane'],\n",
       " ['sugarcanefield02.jpg', 'wheat'],\n",
       " ['sugarcaneplant.jpg', 'sugarcane'],\n",
       " ['sugarcaneplants.jpg', 'wheat'],\n",
       " ['wheat-crop.jpg', 'wheat'],\n",
       " ['wheat-field-395545_960_720.jpg', 'sugarcane'],\n",
       " ['wheat-field-artificial-irrigation-rural-electrification-to-harvest-166395991.jpg',\n",
       "  'sugarcane'],\n",
       " ['wheat-field.jfif', 'wheat'],\n",
       " ['wheat-field01.jpg', 'sugarcane'],\n",
       " ['wheat-field02.jpg', 'sugarcane'],\n",
       " ['wheat-field03.jpg', 'wheat'],\n",
       " ['wheat.jpg', 'sugarcane'],\n",
       " ['wheatarial02.jpg', 'sugarcane'],\n",
       " ['wheatarialview.jfif', 'wheat'],\n",
       " ['wheatcrop01.jpg', 'wheat'],\n",
       " ['wheatcropfield.jpg', 'sugarcane'],\n",
       " ['wheatcropfield04.jpg', 'sugarcane'],\n",
       " ['wheatcrops.jpg', 'wheat'],\n",
       " ['wheatss.jpg', 'sugarcane']]"
      ]
     },
     "execution_count": 18,
     "metadata": {},
     "output_type": "execute_result"
    }
   ],
   "source": [
    "Output_res=[]\n",
    "for file in Test_result:\n",
    "    Output_res.append([file,get_pred_res(file)])\n",
    "Output_res"
   ]
  },
  {
   "cell_type": "code",
   "execution_count": null,
   "id": "0cc0aeda",
   "metadata": {},
   "outputs": [],
   "source": []
  }
 ],
 "metadata": {
  "kernelspec": {
   "display_name": "Python 3 (ipykernel)",
   "language": "python",
   "name": "python3"
  },
  "language_info": {
   "codemirror_mode": {
    "name": "ipython",
    "version": 3
   },
   "file_extension": ".py",
   "mimetype": "text/x-python",
   "name": "python",
   "nbconvert_exporter": "python",
   "pygments_lexer": "ipython3",
   "version": "3.11.4"
  }
 },
 "nbformat": 4,
 "nbformat_minor": 5
}
