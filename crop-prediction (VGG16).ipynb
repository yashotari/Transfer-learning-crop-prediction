{
 "cells": [
  {
   "cell_type": "code",
   "execution_count": 1,
   "id": "e28dfe6f",
   "metadata": {},
   "outputs": [
    {
     "data": {
      "text/plain": [
       "\"'for dirname, _, filenames in os.walk('/kaggle/input'):\\n    for filename in filenames:\\n        print(os.path.join(dirname, filename))\""
      ]
     },
     "execution_count": 1,
     "metadata": {},
     "output_type": "execute_result"
    }
   ],
   "source": [
    "import numpy as np \n",
    "import pandas as pd \n",
    "import os\n",
    "''''for dirname, _, filenames in os.walk('/kaggle/input'):\n",
    "    for filename in filenames:\n",
    "        print(os.path.join(dirname, filename))'''\n"
   ]
  },
  {
   "cell_type": "code",
   "execution_count": 2,
   "id": "fe426030",
   "metadata": {},
   "outputs": [],
   "source": [
    "import pandas as pd\n",
    "from tensorflow.keras.applications import VGG16"
   ]
  },
  {
   "cell_type": "code",
   "execution_count": 3,
   "id": "d21a1685",
   "metadata": {},
   "outputs": [
    {
     "name": "stdout",
     "output_type": "stream",
     "text": [
      "Downloading data from https://storage.googleapis.com/tensorflow/keras-applications/vgg16/vgg16_weights_tf_dim_ordering_tf_kernels_notop.h5\n",
      "58889256/58889256 [==============================] - 15s 0us/step\n",
      "Model: \"vgg16\"\n",
      "_________________________________________________________________\n",
      " Layer (type)                Output Shape              Param #   \n",
      "=================================================================\n",
      " input_1 (InputLayer)        [(None, 224, 224, 3)]     0         \n",
      "                                                                 \n",
      " block1_conv1 (Conv2D)       (None, 224, 224, 64)      1792      \n",
      "                                                                 \n",
      " block1_conv2 (Conv2D)       (None, 224, 224, 64)      36928     \n",
      "                                                                 \n",
      " block1_pool (MaxPooling2D)  (None, 112, 112, 64)      0         \n",
      "                                                                 \n",
      " block2_conv1 (Conv2D)       (None, 112, 112, 128)     73856     \n",
      "                                                                 \n",
      " block2_conv2 (Conv2D)       (None, 112, 112, 128)     147584    \n",
      "                                                                 \n",
      " block2_pool (MaxPooling2D)  (None, 56, 56, 128)       0         \n",
      "                                                                 \n",
      " block3_conv1 (Conv2D)       (None, 56, 56, 256)       295168    \n",
      "                                                                 \n",
      " block3_conv2 (Conv2D)       (None, 56, 56, 256)       590080    \n",
      "                                                                 \n",
      " block3_conv3 (Conv2D)       (None, 56, 56, 256)       590080    \n",
      "                                                                 \n",
      " block3_pool (MaxPooling2D)  (None, 28, 28, 256)       0         \n",
      "                                                                 \n",
      " block4_conv1 (Conv2D)       (None, 28, 28, 512)       1180160   \n",
      "                                                                 \n",
      " block4_conv2 (Conv2D)       (None, 28, 28, 512)       2359808   \n",
      "                                                                 \n",
      " block4_conv3 (Conv2D)       (None, 28, 28, 512)       2359808   \n",
      "                                                                 \n",
      " block4_pool (MaxPooling2D)  (None, 14, 14, 512)       0         \n",
      "                                                                 \n",
      " block5_conv1 (Conv2D)       (None, 14, 14, 512)       2359808   \n",
      "                                                                 \n",
      " block5_conv2 (Conv2D)       (None, 14, 14, 512)       2359808   \n",
      "                                                                 \n",
      " block5_conv3 (Conv2D)       (None, 14, 14, 512)       2359808   \n",
      "                                                                 \n",
      " block5_pool (MaxPooling2D)  (None, 7, 7, 512)         0         \n",
      "                                                                 \n",
      "=================================================================\n",
      "Total params: 14714688 (56.13 MB)\n",
      "Trainable params: 0 (0.00 Byte)\n",
      "Non-trainable params: 14714688 (56.13 MB)\n",
      "_________________________________________________________________\n"
     ]
    }
   ],
   "source": [
    "vgg16_obj = VGG16(include_top = False, input_shape = (224,224,3))    #  include_top = False is used to skip the layer from flattern\n",
    "for layer in vgg16_obj.layers:          \n",
    "    layer.trainable = False\n",
    "vgg16_obj.summary()"
   ]
  },
  {
   "cell_type": "code",
   "execution_count": 4,
   "id": "9b5985d0",
   "metadata": {},
   "outputs": [
    {
     "data": {
      "text/plain": [
       "<KerasTensor: shape=(None, 7, 7, 512) dtype=float32 (created by layer 'block5_pool')>"
      ]
     },
     "execution_count": 4,
     "metadata": {},
     "output_type": "execute_result"
    }
   ],
   "source": [
    "vgg16_obj.output"
   ]
  },
  {
   "cell_type": "code",
   "execution_count": 5,
   "id": "da321a57",
   "metadata": {},
   "outputs": [
    {
     "data": {
      "text/plain": [
       "<KerasTensor: shape=(None, 5) dtype=float32 (created by layer 'dense')>"
      ]
     },
     "execution_count": 5,
     "metadata": {},
     "output_type": "execute_result"
    }
   ],
   "source": [
    "from tensorflow.keras.models import Sequential, Model\n",
    "from tensorflow.keras.layers import Dense,Flatten\n",
    "f1 = Flatten()(vgg16_obj.output)\n",
    "final_layer = Dense(5, activation='softmax')(f1)\n",
    "final_layer"
   ]
  },
  {
   "cell_type": "code",
   "execution_count": 7,
   "id": "af87d945",
   "metadata": {},
   "outputs": [],
   "source": [
    "model = Model(inputs=vgg16_obj.input,outputs=final_layer)\n"
   ]
  },
  {
   "cell_type": "code",
   "execution_count": 9,
   "id": "47df861d",
   "metadata": {},
   "outputs": [],
   "source": [
    "from tensorflow.keras.preprocessing.image import ImageDataGenerator"
   ]
  },
  {
   "cell_type": "code",
   "execution_count": 11,
   "id": "af80905b",
   "metadata": {},
   "outputs": [],
   "source": [
    "crop_datagen = ImageDataGenerator(rescale=1/255,shear_range=0.7,zoom_range=0.5)"
   ]
  },
  {
   "cell_type": "code",
   "execution_count": 13,
   "id": "0c0a6ff5",
   "metadata": {},
   "outputs": [
    {
     "name": "stdout",
     "output_type": "stream",
     "text": [
      "Found 804 images belonging to 5 classes.\n"
     ]
    }
   ],
   "source": [
    "path='/Users/HP/kaggle/input/agriculture-crop-images/kag2/'\n",
    "crop_data =crop_datagen.flow_from_directory(\n",
    "    directory=path,\n",
    "    target_size=(224,224),\n",
    "    batch_size=3,\n",
    "    class_mode=\"categorical\",\n",
    "    )"
   ]
  },
  {
   "cell_type": "code",
   "execution_count": 14,
   "id": "7d2da6c1",
   "metadata": {},
   "outputs": [],
   "source": [
    "model.compile(loss='categorical_crossentropy', metrics=['accuracy'])   "
   ]
  },
  {
   "cell_type": "code",
   "execution_count": 15,
   "id": "f1365bc6",
   "metadata": {},
   "outputs": [
    {
     "name": "stderr",
     "output_type": "stream",
     "text": [
      "C:\\Users\\HP\\AppData\\Local\\Temp\\ipykernel_20384\\1198541881.py:1: UserWarning: `Model.fit_generator` is deprecated and will be removed in a future version. Please use `Model.fit`, which supports generators.\n",
      "  model.fit_generator(crop_data, epochs=20)\n"
     ]
    },
    {
     "name": "stdout",
     "output_type": "stream",
     "text": [
      "Epoch 1/20\n",
      "268/268 [==============================] - 250s 929ms/step - loss: 1.9951 - accuracy: 0.4241\n",
      "Epoch 2/20\n",
      "268/268 [==============================] - 232s 866ms/step - loss: 1.1438 - accuracy: 0.6381\n",
      "Epoch 3/20\n",
      "268/268 [==============================] - 229s 852ms/step - loss: 0.8068 - accuracy: 0.7537\n",
      "Epoch 4/20\n",
      "268/268 [==============================] - 234s 871ms/step - loss: 0.6431 - accuracy: 0.7923\n",
      "Epoch 5/20\n",
      "268/268 [==============================] - 268s 999ms/step - loss: 0.5792 - accuracy: 0.8209\n",
      "Epoch 6/20\n",
      "268/268 [==============================] - 265s 989ms/step - loss: 0.3771 - accuracy: 0.8905\n",
      "Epoch 7/20\n",
      "268/268 [==============================] - 251s 937ms/step - loss: 0.3429 - accuracy: 0.9030\n",
      "Epoch 8/20\n",
      "268/268 [==============================] - 241s 899ms/step - loss: 0.3320 - accuracy: 0.9005\n",
      "Epoch 9/20\n",
      "268/268 [==============================] - 265s 987ms/step - loss: 0.2796 - accuracy: 0.9167\n",
      "Epoch 10/20\n",
      "268/268 [==============================] - 264s 983ms/step - loss: 0.2437 - accuracy: 0.9229\n",
      "Epoch 11/20\n",
      "268/268 [==============================] - 261s 974ms/step - loss: 0.3008 - accuracy: 0.9067\n",
      "Epoch 12/20\n",
      "268/268 [==============================] - 259s 966ms/step - loss: 0.2271 - accuracy: 0.9403\n",
      "Epoch 13/20\n",
      "268/268 [==============================] - 251s 934ms/step - loss: 0.1945 - accuracy: 0.9378\n",
      "Epoch 14/20\n",
      "268/268 [==============================] - 240s 895ms/step - loss: 0.1843 - accuracy: 0.9415\n",
      "Epoch 15/20\n",
      "268/268 [==============================] - 252s 939ms/step - loss: 0.1743 - accuracy: 0.9540\n",
      "Epoch 16/20\n",
      "268/268 [==============================] - 249s 930ms/step - loss: 0.1439 - accuracy: 0.9565\n",
      "Epoch 17/20\n",
      "268/268 [==============================] - 232s 865ms/step - loss: 0.1557 - accuracy: 0.9502\n",
      "Epoch 18/20\n",
      "268/268 [==============================] - 227s 846ms/step - loss: 0.1638 - accuracy: 0.9415\n",
      "Epoch 19/20\n",
      "268/268 [==============================] - 232s 867ms/step - loss: 0.1378 - accuracy: 0.9590\n",
      "Epoch 20/20\n",
      "268/268 [==============================] - 240s 896ms/step - loss: 0.1307 - accuracy: 0.9577\n"
     ]
    },
    {
     "data": {
      "text/plain": [
       "<keras.src.callbacks.History at 0x18ef04896d0>"
      ]
     },
     "execution_count": 15,
     "metadata": {},
     "output_type": "execute_result"
    }
   ],
   "source": [
    "model.fit_generator(crop_data, epochs=20)"
   ]
  },
  {
   "cell_type": "code",
   "execution_count": 16,
   "id": "9fa1d8a2",
   "metadata": {},
   "outputs": [],
   "source": [
    "def get_pred_res(path):\n",
    "    A = cv2.imread('/Users/HP/kaggle/input/agriculture-crop-images/test_crop_image/'+file)\n",
    "    A = cv2.resize(A,(224,224))\n",
    "    A = A.reshape(1,224,224,3)/255\n",
    "    y = model.predict(A).argmax()\n",
    "    if y==0:\n",
    "        return 'jute'\n",
    "    elif y==1:\n",
    "        return 'maize'\n",
    "    elif y==2:\n",
    "        return 'rice'\n",
    "    elif y==3:\n",
    "        return 'sugarcane'\n",
    "    else:\n",
    "        return 'wheat'"
   ]
  },
  {
   "cell_type": "code",
   "execution_count": 17,
   "id": "b62196ad",
   "metadata": {},
   "outputs": [],
   "source": [
    "Test_result=os.listdir('/Users/HP/kaggle/input/agriculture-crop-images/test_crop_image')"
   ]
  },
  {
   "cell_type": "code",
   "execution_count": 18,
   "id": "de206887",
   "metadata": {},
   "outputs": [],
   "source": [
    "import cv2"
   ]
  },
  {
   "cell_type": "code",
   "execution_count": 19,
   "id": "1273004c",
   "metadata": {},
   "outputs": [
    {
     "name": "stdout",
     "output_type": "stream",
     "text": [
      "1/1 [==============================] - 0s 470ms/step\n",
      "1/1 [==============================] - 0s 199ms/step\n",
      "1/1 [==============================] - 0s 194ms/step\n",
      "1/1 [==============================] - 0s 196ms/step\n",
      "1/1 [==============================] - 0s 260ms/step\n",
      "1/1 [==============================] - 0s 310ms/step\n",
      "1/1 [==============================] - 0s 300ms/step\n",
      "1/1 [==============================] - 0s 320ms/step\n",
      "1/1 [==============================] - 0s 210ms/step\n",
      "1/1 [==============================] - 0s 187ms/step\n",
      "1/1 [==============================] - 0s 194ms/step\n",
      "1/1 [==============================] - 0s 210ms/step\n",
      "1/1 [==============================] - 0s 187ms/step\n",
      "1/1 [==============================] - 0s 210ms/step\n",
      "1/1 [==============================] - 0s 299ms/step\n",
      "1/1 [==============================] - 0s 311ms/step\n",
      "1/1 [==============================] - 0s 309ms/step\n",
      "1/1 [==============================] - 0s 281ms/step\n",
      "1/1 [==============================] - 0s 274ms/step\n",
      "1/1 [==============================] - 0s 252ms/step\n",
      "1/1 [==============================] - 0s 185ms/step\n",
      "1/1 [==============================] - 0s 333ms/step\n",
      "1/1 [==============================] - 0s 422ms/step\n",
      "1/1 [==============================] - 0s 345ms/step\n",
      "1/1 [==============================] - 0s 334ms/step\n",
      "1/1 [==============================] - 0s 408ms/step\n",
      "1/1 [==============================] - 0s 253ms/step\n",
      "1/1 [==============================] - 0s 200ms/step\n",
      "1/1 [==============================] - 0s 190ms/step\n",
      "1/1 [==============================] - 0s 184ms/step\n",
      "1/1 [==============================] - 0s 363ms/step\n",
      "1/1 [==============================] - 0s 405ms/step\n",
      "1/1 [==============================] - 0s 307ms/step\n",
      "1/1 [==============================] - 0s 210ms/step\n",
      "1/1 [==============================] - 0s 188ms/step\n",
      "1/1 [==============================] - 0s 290ms/step\n",
      "1/1 [==============================] - 0s 294ms/step\n",
      "1/1 [==============================] - 0s 240ms/step\n",
      "1/1 [==============================] - 0s 293ms/step\n",
      "1/1 [==============================] - 0s 300ms/step\n",
      "1/1 [==============================] - 0s 444ms/step\n",
      "1/1 [==============================] - 0s 320ms/step\n",
      "1/1 [==============================] - 0s 336ms/step\n",
      "1/1 [==============================] - 0s 275ms/step\n",
      "1/1 [==============================] - 0s 303ms/step\n",
      "1/1 [==============================] - 0s 195ms/step\n",
      "1/1 [==============================] - 0s 180ms/step\n",
      "1/1 [==============================] - 0s 362ms/step\n",
      "1/1 [==============================] - 0s 407ms/step\n",
      "1/1 [==============================] - 0s 338ms/step\n",
      "1/1 [==============================] - 0s 302ms/step\n"
     ]
    },
    {
     "data": {
      "text/plain": [
       "[['jute-field.jpg', 'rice'],\n",
       " ['jute002.jpg', 'jute'],\n",
       " ['jute003.jpg', 'jute'],\n",
       " ['jute03.jpg', 'rice'],\n",
       " ['jutefield.jpg', 'maize'],\n",
       " ['juteimg.jpg', 'rice'],\n",
       " ['juteleaves.jpg', 'jute'],\n",
       " ['juteplant.jpg', 'maize'],\n",
       " ['juteplants.jpg', 'jute'],\n",
       " ['maize corn set2.jpg', 'maize'],\n",
       " ['maize images.jfif', 'maize'],\n",
       " ['maize plant set.jpg', 'wheat'],\n",
       " ['maize-Field-Corn.jpg', 'rice'],\n",
       " ['maize-field.jpg', 'jute'],\n",
       " ['maize-field01.jpg', 'maize'],\n",
       " ['maize000.jfif', 'rice'],\n",
       " ['maize00corn-fields.jpg', 'maize'],\n",
       " ['maize02.jfif', 'maize'],\n",
       " ['maizecornleaves.jfif', 'maize'],\n",
       " ['maize_fieldmexico.jpeg', 'maize'],\n",
       " ['rice-4967164_1280.jpg', 'rice'],\n",
       " ['rice-5174887_1280.jpg', 'maize'],\n",
       " ['rice-828540_1280.jpg', 'rice'],\n",
       " ['rice-field.jpg', 'maize'],\n",
       " ['rice-field01.jpg', 'rice'],\n",
       " ['rice-field02.jpg', 'rice'],\n",
       " ['rice-fields-204128_1280.jpg', 'rice'],\n",
       " ['rice8122f869e3f.jpg', 'maize'],\n",
       " ['sugarcane fields.jpg', 'maize'],\n",
       " ['sugarcane-farm-in-the-mountain-countryside-of-thailand.jpg', 'maize'],\n",
       " ['sugarcane-field.jpg', 'maize'],\n",
       " ['sugarcane-field8.jpg', 'sugarcane'],\n",
       " ['sugarcanefield.jpg', 'rice'],\n",
       " ['sugarcanefield02.jpg', 'maize'],\n",
       " ['sugarcaneplant.jpg', 'rice'],\n",
       " ['sugarcaneplants.jpg', 'maize'],\n",
       " ['wheat-crop.jpg', 'maize'],\n",
       " ['wheat-field-395545_960_720.jpg', 'rice'],\n",
       " ['wheat-field-artificial-irrigation-rural-electrification-to-harvest-166395991.jpg',\n",
       "  'maize'],\n",
       " ['wheat-field.jfif', 'maize'],\n",
       " ['wheat-field01.jpg', 'maize'],\n",
       " ['wheat-field02.jpg', 'maize'],\n",
       " ['wheat-field03.jpg', 'wheat'],\n",
       " ['wheat.jpg', 'maize'],\n",
       " ['wheatarial02.jpg', 'maize'],\n",
       " ['wheatarialview.jfif', 'rice'],\n",
       " ['wheatcrop01.jpg', 'rice'],\n",
       " ['wheatcropfield.jpg', 'rice'],\n",
       " ['wheatcropfield04.jpg', 'sugarcane'],\n",
       " ['wheatcrops.jpg', 'wheat'],\n",
       " ['wheatss.jpg', 'wheat']]"
      ]
     },
     "execution_count": 19,
     "metadata": {},
     "output_type": "execute_result"
    }
   ],
   "source": [
    "Output_res=[]\n",
    "for file in Test_result:\n",
    "    Output_res.append([file,get_pred_res(file)])\n",
    "Output_res"
   ]
  },
  {
   "cell_type": "code",
   "execution_count": null,
   "id": "81c7b142",
   "metadata": {},
   "outputs": [],
   "source": []
  }
 ],
 "metadata": {
  "kernelspec": {
   "display_name": "Python 3 (ipykernel)",
   "language": "python",
   "name": "python3"
  },
  "language_info": {
   "codemirror_mode": {
    "name": "ipython",
    "version": 3
   },
   "file_extension": ".py",
   "mimetype": "text/x-python",
   "name": "python",
   "nbconvert_exporter": "python",
   "pygments_lexer": "ipython3",
   "version": "3.11.4"
  }
 },
 "nbformat": 4,
 "nbformat_minor": 5
}
